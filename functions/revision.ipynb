{
 "cells": [
  {
   "cell_type": "code",
   "execution_count": 3,
   "metadata": {},
   "outputs": [
    {
     "name": "stdout",
     "output_type": "stream",
     "text": [
      "i will buy 30 pen today\n"
     ]
    }
   ],
   "source": [
    "qty=30\n",
    "material='pen'\n",
    "print('i will buy',qty,material,'today')"
   ]
  },
  {
   "cell_type": "code",
   "execution_count": 4,
   "metadata": {},
   "outputs": [
    {
     "name": "stdout",
     "output_type": "stream",
     "text": [
      "30\n"
     ]
    }
   ],
   "source": [
    "print(10+20)"
   ]
  },
  {
   "cell_type": "code",
   "execution_count": 7,
   "metadata": {},
   "outputs": [
    {
     "name": "stdout",
     "output_type": "stream",
     "text": [
      "(1, 2, 3, 4, 56, 7, 7, 79, 9, 11, 22, 33, 44, 55, 66, 77)\n"
     ]
    }
   ],
   "source": [
    "x=1,2,3,4,56,7,7,79,9\n",
    "y=11,22,33,44,55,66,77\n",
    "print(x+y)"
   ]
  },
  {
   "cell_type": "code",
   "execution_count": 12,
   "metadata": {},
   "outputs": [
    {
     "name": "stdout",
     "output_type": "stream",
     "text": [
      "Enter 1st no.:\n",
      "Enter 2nd no.:\n",
      "Sum of both nos are: 3\n"
     ]
    }
   ],
   "source": [
    "print(\"Enter 2nd no.:\",)\n",
    "a=input(\" \")\n",
    "print(\"Enter 2nd no.:\",)\n",
    "b=input(\" \")\n",
    "print(\"Sum of both nos are:\", int(a)+int(b))"
   ]
  },
  {
   "cell_type": "code",
   "execution_count": 13,
   "metadata": {},
   "outputs": [
    {
     "name": "stdout",
     "output_type": "stream",
     "text": [
      "Enter 1st no.:\n",
      "Enter 2nd no.:\n"
     ]
    }
   ],
   "source": [
    "input()\n",
    "print(\"Enter 1st no.:\",)\n",
    "input()\n",
    "print(\"Enter 2nd no.:\",)\n"
   ]
  },
  {
   "cell_type": "code",
   "execution_count": null,
   "metadata": {},
   "outputs": [],
   "source": [
    "\n"
   ]
  }
 ],
 "metadata": {
  "kernelspec": {
   "display_name": "Python 3.10.5 64-bit",
   "language": "python",
   "name": "python3"
  },
  "language_info": {
   "codemirror_mode": {
    "name": "ipython",
    "version": 3
   },
   "file_extension": ".py",
   "mimetype": "text/x-python",
   "name": "python",
   "nbconvert_exporter": "python",
   "pygments_lexer": "ipython3",
   "version": "3.10.5"
  },
  "orig_nbformat": 4,
  "vscode": {
   "interpreter": {
    "hash": "107d7b120a5b68773a87d4067e673630b35702e55ebab3138143d08b1c4d7cbc"
   }
  }
 },
 "nbformat": 4,
 "nbformat_minor": 2
}
